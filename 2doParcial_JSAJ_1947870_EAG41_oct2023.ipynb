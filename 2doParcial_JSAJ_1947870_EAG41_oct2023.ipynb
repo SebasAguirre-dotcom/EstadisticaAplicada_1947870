{
  "cells": [
    {
      "cell_type": "markdown",
      "metadata": {
        "id": "gswsTc9rVCNp"
      },
      "source": [
        "# Estadistica Aplicada\n",
        "## Jorge Sebastian Aguirre Jimenez 1947870\n",
        "## G41"
      ]
    },
    {
      "cell_type": "code",
      "execution_count": 4,
      "metadata": {
        "id": "ZOiO-5tBhV1o"
      },
      "outputs": [],
      "source": [
        "import pandas as pd\n",
        "import numpy as np\n",
        "import matplotlib.pyplot as plt\n",
        "%matplotlib inline"
      ]
    },
    {
      "cell_type": "code",
      "execution_count": 5,
      "metadata": {
        "id": "faovH62LqnY4"
      },
      "outputs": [],
      "source": [
        "from lifelines import KaplanMeierFitter\n",
        "from lifelines.statistics import logrank_test"
      ]
    },
    {
      "cell_type": "code",
      "execution_count": 6,
      "metadata": {
        "id": "UtxpZs2Us1Ta"
      },
      "outputs": [],
      "source": [
        "from lifelines import ExponentialFitter\n",
        "from lifelines import WeibullFitter\n",
        "from lifelines import LogNormalFitter"
      ]
    },
    {
      "cell_type": "code",
      "execution_count": 7,
      "metadata": {
        "id": "57fcxZHuwViw"
      },
      "outputs": [],
      "source": [
        "from lifelines import CoxPHFitter"
      ]
    },
    {
      "cell_type": "code",
      "execution_count": 8,
      "metadata": {
        "id": "QFf582ZKiI9r"
      },
      "outputs": [],
      "source": [
        "data=pd.read_csv('https://raw.githubusercontent.com/jimmyzac/Estadistica-Aplicada-FCFM-UANL/main/bases_datos/credit_risk.csv')"
      ]
    },
    {
      "cell_type": "markdown",
      "metadata": {
        "id": "BnTZKt_Vi6Xu"
      },
      "source": [
        "# Análisis exploratorio"
      ]
    },
    {
      "cell_type": "code",
      "execution_count": 9,
      "metadata": {
        "colab": {
          "base_uri": "https://localhost:8080/",
          "height": 444
        },
        "id": "eJXXIgPCidbb",
        "outputId": "badb2a89-0fef-46e8-9886-8f36ff8bfbaa"
      },
      "outputs": [
        {
          "data": {
            "text/html": [
              "<div>\n",
              "<style scoped>\n",
              "    .dataframe tbody tr th:only-of-type {\n",
              "        vertical-align: middle;\n",
              "    }\n",
              "\n",
              "    .dataframe tbody tr th {\n",
              "        vertical-align: top;\n",
              "    }\n",
              "\n",
              "    .dataframe thead th {\n",
              "        text-align: right;\n",
              "    }\n",
              "</style>\n",
              "<table border=\"1\" class=\"dataframe\">\n",
              "  <thead>\n",
              "    <tr style=\"text-align: right;\">\n",
              "      <th></th>\n",
              "      <th>saldo_cuenta</th>\n",
              "      <th>meses</th>\n",
              "      <th>historia_crediticia</th>\n",
              "      <th>uso</th>\n",
              "      <th>cantidad</th>\n",
              "      <th>saldo_cuenta_ahorro</th>\n",
              "      <th>años_trabajando</th>\n",
              "      <th>tasa_de_interes</th>\n",
              "      <th>genero_estado_civil</th>\n",
              "      <th>aval</th>\n",
              "      <th>...</th>\n",
              "      <th>activos</th>\n",
              "      <th>edad</th>\n",
              "      <th>planes_de_pago</th>\n",
              "      <th>casa</th>\n",
              "      <th>numero_creditos</th>\n",
              "      <th>situacion_laboral</th>\n",
              "      <th>dependientes_economicos</th>\n",
              "      <th>telefono</th>\n",
              "      <th>extranjero</th>\n",
              "      <th>credito_pagado</th>\n",
              "    </tr>\n",
              "  </thead>\n",
              "  <tbody>\n",
              "    <tr>\n",
              "      <th>0</th>\n",
              "      <td>menor_a_cero</td>\n",
              "      <td>6</td>\n",
              "      <td>no_ha_pagado</td>\n",
              "      <td>TV</td>\n",
              "      <td>1169</td>\n",
              "      <td>NaN</td>\n",
              "      <td>mas_de_7</td>\n",
              "      <td>4</td>\n",
              "      <td>hombre_soltero</td>\n",
              "      <td>NaN</td>\n",
              "      <td>...</td>\n",
              "      <td>bienes_raices</td>\n",
              "      <td>67</td>\n",
              "      <td>NaN</td>\n",
              "      <td>propia</td>\n",
              "      <td>2</td>\n",
              "      <td>gobierno</td>\n",
              "      <td>1</td>\n",
              "      <td>1</td>\n",
              "      <td>1</td>\n",
              "      <td>1</td>\n",
              "    </tr>\n",
              "    <tr>\n",
              "      <th>1</th>\n",
              "      <td>cero_a_200</td>\n",
              "      <td>48</td>\n",
              "      <td>pago_algun_credito</td>\n",
              "      <td>TV</td>\n",
              "      <td>5951</td>\n",
              "      <td>menor_100</td>\n",
              "      <td>1_a_4</td>\n",
              "      <td>2</td>\n",
              "      <td>mujer_no_soltera</td>\n",
              "      <td>NaN</td>\n",
              "      <td>...</td>\n",
              "      <td>bienes_raices</td>\n",
              "      <td>22</td>\n",
              "      <td>NaN</td>\n",
              "      <td>propia</td>\n",
              "      <td>1</td>\n",
              "      <td>gobierno</td>\n",
              "      <td>1</td>\n",
              "      <td>0</td>\n",
              "      <td>1</td>\n",
              "      <td>0</td>\n",
              "    </tr>\n",
              "    <tr>\n",
              "      <th>2</th>\n",
              "      <td>sin_cuenta</td>\n",
              "      <td>12</td>\n",
              "      <td>no_ha_pagado</td>\n",
              "      <td>colegiaturas</td>\n",
              "      <td>2096</td>\n",
              "      <td>menor_100</td>\n",
              "      <td>4_a_7</td>\n",
              "      <td>2</td>\n",
              "      <td>hombre_soltero</td>\n",
              "      <td>NaN</td>\n",
              "      <td>...</td>\n",
              "      <td>bienes_raices</td>\n",
              "      <td>49</td>\n",
              "      <td>NaN</td>\n",
              "      <td>propia</td>\n",
              "      <td>1</td>\n",
              "      <td>obrero</td>\n",
              "      <td>2</td>\n",
              "      <td>0</td>\n",
              "      <td>1</td>\n",
              "      <td>1</td>\n",
              "    </tr>\n",
              "    <tr>\n",
              "      <th>3</th>\n",
              "      <td>menor_a_cero</td>\n",
              "      <td>42</td>\n",
              "      <td>pago_algun_credito</td>\n",
              "      <td>mobiliario</td>\n",
              "      <td>7882</td>\n",
              "      <td>menor_100</td>\n",
              "      <td>4_a_7</td>\n",
              "      <td>2</td>\n",
              "      <td>hombre_soltero</td>\n",
              "      <td>aval</td>\n",
              "      <td>...</td>\n",
              "      <td>seguro_vida</td>\n",
              "      <td>45</td>\n",
              "      <td>NaN</td>\n",
              "      <td>prestada</td>\n",
              "      <td>1</td>\n",
              "      <td>gobierno</td>\n",
              "      <td>2</td>\n",
              "      <td>0</td>\n",
              "      <td>1</td>\n",
              "      <td>1</td>\n",
              "    </tr>\n",
              "    <tr>\n",
              "      <th>4</th>\n",
              "      <td>menor_a_cero</td>\n",
              "      <td>24</td>\n",
              "      <td>pago_retrasado</td>\n",
              "      <td>coche_nuevo</td>\n",
              "      <td>4870</td>\n",
              "      <td>menor_100</td>\n",
              "      <td>1_a_4</td>\n",
              "      <td>3</td>\n",
              "      <td>hombre_soltero</td>\n",
              "      <td>NaN</td>\n",
              "      <td>...</td>\n",
              "      <td>sin_activos</td>\n",
              "      <td>53</td>\n",
              "      <td>NaN</td>\n",
              "      <td>prestada</td>\n",
              "      <td>2</td>\n",
              "      <td>gobierno</td>\n",
              "      <td>2</td>\n",
              "      <td>0</td>\n",
              "      <td>1</td>\n",
              "      <td>0</td>\n",
              "    </tr>\n",
              "    <tr>\n",
              "      <th>...</th>\n",
              "      <td>...</td>\n",
              "      <td>...</td>\n",
              "      <td>...</td>\n",
              "      <td>...</td>\n",
              "      <td>...</td>\n",
              "      <td>...</td>\n",
              "      <td>...</td>\n",
              "      <td>...</td>\n",
              "      <td>...</td>\n",
              "      <td>...</td>\n",
              "      <td>...</td>\n",
              "      <td>...</td>\n",
              "      <td>...</td>\n",
              "      <td>...</td>\n",
              "      <td>...</td>\n",
              "      <td>...</td>\n",
              "      <td>...</td>\n",
              "      <td>...</td>\n",
              "      <td>...</td>\n",
              "      <td>...</td>\n",
              "      <td>...</td>\n",
              "    </tr>\n",
              "    <tr>\n",
              "      <th>995</th>\n",
              "      <td>sin_cuenta</td>\n",
              "      <td>12</td>\n",
              "      <td>pago_algun_credito</td>\n",
              "      <td>mobiliario</td>\n",
              "      <td>1736</td>\n",
              "      <td>menor_100</td>\n",
              "      <td>4_a_7</td>\n",
              "      <td>3</td>\n",
              "      <td>mujer_no_soltera</td>\n",
              "      <td>NaN</td>\n",
              "      <td>...</td>\n",
              "      <td>bienes_raices</td>\n",
              "      <td>31</td>\n",
              "      <td>NaN</td>\n",
              "      <td>propia</td>\n",
              "      <td>1</td>\n",
              "      <td>obrero</td>\n",
              "      <td>1</td>\n",
              "      <td>0</td>\n",
              "      <td>1</td>\n",
              "      <td>1</td>\n",
              "    </tr>\n",
              "    <tr>\n",
              "      <th>996</th>\n",
              "      <td>menor_a_cero</td>\n",
              "      <td>30</td>\n",
              "      <td>pago_algun_credito</td>\n",
              "      <td>coche_usado</td>\n",
              "      <td>3857</td>\n",
              "      <td>menor_100</td>\n",
              "      <td>1_a_4</td>\n",
              "      <td>4</td>\n",
              "      <td>hombre_divorciado</td>\n",
              "      <td>NaN</td>\n",
              "      <td>...</td>\n",
              "      <td>seguro_vida</td>\n",
              "      <td>40</td>\n",
              "      <td>NaN</td>\n",
              "      <td>propia</td>\n",
              "      <td>1</td>\n",
              "      <td>administrativo</td>\n",
              "      <td>1</td>\n",
              "      <td>1</td>\n",
              "      <td>1</td>\n",
              "      <td>1</td>\n",
              "    </tr>\n",
              "    <tr>\n",
              "      <th>997</th>\n",
              "      <td>sin_cuenta</td>\n",
              "      <td>12</td>\n",
              "      <td>pago_algun_credito</td>\n",
              "      <td>TV</td>\n",
              "      <td>804</td>\n",
              "      <td>menor_100</td>\n",
              "      <td>mas_de_7</td>\n",
              "      <td>4</td>\n",
              "      <td>hombre_soltero</td>\n",
              "      <td>NaN</td>\n",
              "      <td>...</td>\n",
              "      <td>otro_tipo</td>\n",
              "      <td>38</td>\n",
              "      <td>NaN</td>\n",
              "      <td>propia</td>\n",
              "      <td>1</td>\n",
              "      <td>gobierno</td>\n",
              "      <td>1</td>\n",
              "      <td>0</td>\n",
              "      <td>1</td>\n",
              "      <td>1</td>\n",
              "    </tr>\n",
              "    <tr>\n",
              "      <th>998</th>\n",
              "      <td>menor_a_cero</td>\n",
              "      <td>45</td>\n",
              "      <td>pago_algun_credito</td>\n",
              "      <td>TV</td>\n",
              "      <td>1845</td>\n",
              "      <td>menor_100</td>\n",
              "      <td>1_a_4</td>\n",
              "      <td>4</td>\n",
              "      <td>hombre_soltero</td>\n",
              "      <td>NaN</td>\n",
              "      <td>...</td>\n",
              "      <td>sin_activos</td>\n",
              "      <td>23</td>\n",
              "      <td>NaN</td>\n",
              "      <td>prestada</td>\n",
              "      <td>1</td>\n",
              "      <td>gobierno</td>\n",
              "      <td>1</td>\n",
              "      <td>1</td>\n",
              "      <td>1</td>\n",
              "      <td>0</td>\n",
              "    </tr>\n",
              "    <tr>\n",
              "      <th>999</th>\n",
              "      <td>cero_a_200</td>\n",
              "      <td>45</td>\n",
              "      <td>no_ha_pagado</td>\n",
              "      <td>coche_usado</td>\n",
              "      <td>4576</td>\n",
              "      <td>100_a_500</td>\n",
              "      <td>desempleado</td>\n",
              "      <td>3</td>\n",
              "      <td>hombre_soltero</td>\n",
              "      <td>NaN</td>\n",
              "      <td>...</td>\n",
              "      <td>otro_tipo</td>\n",
              "      <td>27</td>\n",
              "      <td>NaN</td>\n",
              "      <td>propia</td>\n",
              "      <td>1</td>\n",
              "      <td>gobierno</td>\n",
              "      <td>1</td>\n",
              "      <td>0</td>\n",
              "      <td>1</td>\n",
              "      <td>1</td>\n",
              "    </tr>\n",
              "  </tbody>\n",
              "</table>\n",
              "<p>1000 rows × 21 columns</p>\n",
              "</div>"
            ],
            "text/plain": [
              "     saldo_cuenta  meses historia_crediticia           uso  cantidad  \\\n",
              "0    menor_a_cero      6        no_ha_pagado            TV      1169   \n",
              "1      cero_a_200     48  pago_algun_credito            TV      5951   \n",
              "2      sin_cuenta     12        no_ha_pagado  colegiaturas      2096   \n",
              "3    menor_a_cero     42  pago_algun_credito    mobiliario      7882   \n",
              "4    menor_a_cero     24      pago_retrasado   coche_nuevo      4870   \n",
              "..            ...    ...                 ...           ...       ...   \n",
              "995    sin_cuenta     12  pago_algun_credito    mobiliario      1736   \n",
              "996  menor_a_cero     30  pago_algun_credito   coche_usado      3857   \n",
              "997    sin_cuenta     12  pago_algun_credito            TV       804   \n",
              "998  menor_a_cero     45  pago_algun_credito            TV      1845   \n",
              "999    cero_a_200     45        no_ha_pagado   coche_usado      4576   \n",
              "\n",
              "    saldo_cuenta_ahorro años_trabajando  tasa_de_interes genero_estado_civil  \\\n",
              "0                   NaN        mas_de_7                4      hombre_soltero   \n",
              "1             menor_100           1_a_4                2    mujer_no_soltera   \n",
              "2             menor_100           4_a_7                2      hombre_soltero   \n",
              "3             menor_100           4_a_7                2      hombre_soltero   \n",
              "4             menor_100           1_a_4                3      hombre_soltero   \n",
              "..                  ...             ...              ...                 ...   \n",
              "995           menor_100           4_a_7                3    mujer_no_soltera   \n",
              "996           menor_100           1_a_4                4   hombre_divorciado   \n",
              "997           menor_100        mas_de_7                4      hombre_soltero   \n",
              "998           menor_100           1_a_4                4      hombre_soltero   \n",
              "999           100_a_500     desempleado                3      hombre_soltero   \n",
              "\n",
              "     aval  ...        activos edad  planes_de_pago      casa numero_creditos  \\\n",
              "0     NaN  ...  bienes_raices   67             NaN    propia               2   \n",
              "1     NaN  ...  bienes_raices   22             NaN    propia               1   \n",
              "2     NaN  ...  bienes_raices   49             NaN    propia               1   \n",
              "3    aval  ...    seguro_vida   45             NaN  prestada               1   \n",
              "4     NaN  ...    sin_activos   53             NaN  prestada               2   \n",
              "..    ...  ...            ...  ...             ...       ...             ...   \n",
              "995   NaN  ...  bienes_raices   31             NaN    propia               1   \n",
              "996   NaN  ...    seguro_vida   40             NaN    propia               1   \n",
              "997   NaN  ...      otro_tipo   38             NaN    propia               1   \n",
              "998   NaN  ...    sin_activos   23             NaN  prestada               1   \n",
              "999   NaN  ...      otro_tipo   27             NaN    propia               1   \n",
              "\n",
              "     situacion_laboral dependientes_economicos  telefono  extranjero  \\\n",
              "0             gobierno                       1         1           1   \n",
              "1             gobierno                       1         0           1   \n",
              "2               obrero                       2         0           1   \n",
              "3             gobierno                       2         0           1   \n",
              "4             gobierno                       2         0           1   \n",
              "..                 ...                     ...       ...         ...   \n",
              "995             obrero                       1         0           1   \n",
              "996     administrativo                       1         1           1   \n",
              "997           gobierno                       1         0           1   \n",
              "998           gobierno                       1         1           1   \n",
              "999           gobierno                       1         0           1   \n",
              "\n",
              "     credito_pagado  \n",
              "0                 1  \n",
              "1                 0  \n",
              "2                 1  \n",
              "3                 1  \n",
              "4                 0  \n",
              "..              ...  \n",
              "995               1  \n",
              "996               1  \n",
              "997               1  \n",
              "998               0  \n",
              "999               1  \n",
              "\n",
              "[1000 rows x 21 columns]"
            ]
          },
          "execution_count": 9,
          "metadata": {},
          "output_type": "execute_result"
        }
      ],
      "source": [
        "data"
      ]
    },
    {
      "cell_type": "markdown",
      "metadata": {
        "id": "dAJpxHSXje8A"
      },
      "source": [
        "Podemos ver que hay 1000 observaciones y 21 variables"
      ]
    },
    {
      "cell_type": "code",
      "execution_count": 10,
      "metadata": {
        "colab": {
          "base_uri": "https://localhost:8080/"
        },
        "id": "lMtMcandj_EG",
        "outputId": "56bf8c92-2b97-4c65-9d6e-de628dc83273"
      },
      "outputs": [
        {
          "data": {
            "text/plain": [
              "3271.258"
            ]
          },
          "execution_count": 10,
          "metadata": {},
          "output_type": "execute_result"
        }
      ],
      "source": [
        "data['cantidad'].mean()"
      ]
    },
    {
      "cell_type": "markdown",
      "metadata": {
        "id": "1IDTAb4lkj_8"
      },
      "source": [
        "En promedio el banco otorga 3271.258 euros a cada persona por su prestamo"
      ]
    },
    {
      "cell_type": "code",
      "execution_count": 11,
      "metadata": {
        "id": "8z54L7NwkuF5"
      },
      "outputs": [],
      "source": [
        "pagados=data.query(\"credito_pagado==1\")"
      ]
    },
    {
      "cell_type": "code",
      "execution_count": 12,
      "metadata": {
        "colab": {
          "base_uri": "https://localhost:8080/"
        },
        "id": "ib7psuhVnqD0",
        "outputId": "b9d9c3ad-31a1-40a7-d97b-d300e9e4bb7a"
      },
      "outputs": [
        {
          "data": {
            "text/plain": [
              "19.207142857142856"
            ]
          },
          "execution_count": 12,
          "metadata": {},
          "output_type": "execute_result"
        }
      ],
      "source": [
        "pagados['meses'].mean()"
      ]
    },
    {
      "cell_type": "markdown",
      "metadata": {
        "id": "i24ML32fnwz-"
      },
      "source": [
        "Las personas que han pagado su prestamo se tardan 19.21 meses para pagarlo por completo."
      ]
    },
    {
      "cell_type": "code",
      "execution_count": 13,
      "metadata": {
        "colab": {
          "base_uri": "https://localhost:8080/"
        },
        "id": "0JKWhd_4n6Cn",
        "outputId": "391c3270-e682-4c2f-95ad-1500ab8a747e"
      },
      "outputs": [
        {
          "data": {
            "text/plain": [
              "2.973"
            ]
          },
          "execution_count": 13,
          "metadata": {},
          "output_type": "execute_result"
        }
      ],
      "source": [
        "data['tasa_de_interes'].mean()"
      ]
    },
    {
      "cell_type": "markdown",
      "metadata": {
        "id": "uB-0IG48oV1X"
      },
      "source": [
        "La tasa de interes promedio otorgada por el banco es de 2.973"
      ]
    },
    {
      "cell_type": "code",
      "execution_count": 14,
      "metadata": {
        "colab": {
          "base_uri": "https://localhost:8080/"
        },
        "id": "bxaX4tlgoeX3",
        "outputId": "6182e0c5-77a9-4e04-c47f-12dbfd0b5a77"
      },
      "outputs": [
        {
          "data": {
            "text/plain": [
              "(2985.457142857143, 2.92)"
            ]
          },
          "execution_count": 14,
          "metadata": {},
          "output_type": "execute_result"
        }
      ],
      "source": [
        "pagados['cantidad'].mean(),pagados['tasa_de_interes'].mean()"
      ]
    },
    {
      "cell_type": "markdown",
      "metadata": {
        "id": "1AGlHtnTo2Mf"
      },
      "source": [
        "La cantidad promedio de los que pagaron es su totalidad fue de 2985.46 euros con una tasa de interes promedio de 2.92"
      ]
    },
    {
      "cell_type": "code",
      "execution_count": 15,
      "metadata": {
        "id": "hvWW4fL7o1aT"
      },
      "outputs": [],
      "source": [
        "pagadosnt=data.query(\"credito_pagado==0\")"
      ]
    },
    {
      "cell_type": "code",
      "execution_count": 16,
      "metadata": {
        "colab": {
          "base_uri": "https://localhost:8080/"
        },
        "id": "wr6S4sBypde6",
        "outputId": "e4e1cfc2-a2b5-4116-ba9c-bdde5d03fcce"
      },
      "outputs": [
        {
          "data": {
            "text/plain": [
              "(3938.1266666666666, 3.0966666666666667)"
            ]
          },
          "execution_count": 16,
          "metadata": {},
          "output_type": "execute_result"
        }
      ],
      "source": [
        "pagadosnt['cantidad'].mean(),pagadosnt['tasa_de_interes'].mean()"
      ]
    },
    {
      "cell_type": "markdown",
      "metadata": {
        "id": "MEPjoeSZpshf"
      },
      "source": [
        "El monto promedio que fue prestado a las personas que todavia no han termiando de pagar es de 2938.13 con una tasa de interes promedio de 3.097."
      ]
    },
    {
      "cell_type": "markdown",
      "metadata": {
        "id": "eu8Y-L7XqHv2"
      },
      "source": [
        "# Kaplan-meier"
      ]
    },
    {
      "cell_type": "code",
      "execution_count": 17,
      "metadata": {
        "id": "8lsfYwfTqRZH"
      },
      "outputs": [],
      "source": [
        "km1=KaplanMeierFitter().fit(data['meses'],data['credito_pagado'])"
      ]
    },
    {
      "cell_type": "code",
      "execution_count": 18,
      "metadata": {
        "colab": {
          "base_uri": "https://localhost:8080/"
        },
        "id": "Tw9Oc1Khrtbc",
        "outputId": "ac9d0c06-6d26-47cd-c7a5-2b4a300a9f9e"
      },
      "outputs": [
        {
          "data": {
            "text/plain": [
              "24.0"
            ]
          },
          "execution_count": 18,
          "metadata": {},
          "output_type": "execute_result"
        }
      ],
      "source": [
        "km1.median_survival_time_"
      ]
    },
    {
      "cell_type": "markdown",
      "metadata": {
        "id": "9-8GqfHnr9v1"
      },
      "source": [
        "El 50% de las personas que terminaron de pagar su prestamo se tardaron 24 meses lo cual es mayor que el tiempo promedio estimado en el punto 1-c"
      ]
    },
    {
      "cell_type": "markdown",
      "metadata": {
        "id": "sQX9HFMFsrrl"
      },
      "source": [
        "# Tipo de riesgo"
      ]
    },
    {
      "cell_type": "code",
      "execution_count": 19,
      "metadata": {
        "id": "fbemrVGssubH"
      },
      "outputs": [],
      "source": [
        "exponencial=ExponentialFitter().fit(data['meses'],data['credito_pagado'])\n",
        "weibull=WeibullFitter().fit(data['meses'],data['credito_pagado'])\n",
        "logn=LogNormalFitter().fit(data['meses'],data['credito_pagado'])"
      ]
    },
    {
      "cell_type": "code",
      "execution_count": 20,
      "metadata": {
        "colab": {
          "base_uri": "https://localhost:8080/"
        },
        "id": "_lpWex73uGgj",
        "outputId": "51a5105a-bd22-47ca-814d-9385106aea57"
      },
      "outputs": [
        {
          "name": "stdout",
          "output_type": "stream",
          "text": [
            "exponencial: 6157.19 weibull: 5900.98 LogNormal: 5813.75\n"
          ]
        }
      ],
      "source": [
        "print('exponencial:',exponencial.AIC_.round(2), 'weibull:',weibull.AIC_.round(2), 'LogNormal:', logn.AIC_.round(2))"
      ]
    },
    {
      "cell_type": "code",
      "execution_count": 21,
      "metadata": {
        "colab": {
          "base_uri": "https://localhost:8080/",
          "height": 452
        },
        "id": "JZciGqhYuenB",
        "outputId": "2fd286a4-2a5b-47d1-e6ca-caac016f178a"
      },
      "outputs": [
        {
          "data": {
            "image/png": "[encoded data removed]",
            "text/plain": [
              "<Figure size 640x480 with 1 Axes>"
            ]
          },
          "metadata": {},
          "output_type": "display_data"
        }
      ],
      "source": [
        "logn.plot_hazard()\n",
        "plt.title('Funcion de riesgo LogNormal');"
      ]
    },
    {
      "cell_type": "markdown",
      "metadata": {
        "id": "6DTaJS90v5k6"
      },
      "source": [
        "El riesgo del prestamo que se pago totalemnte es de tipo LogNormal"
      ]
    },
    {
      "cell_type": "markdown",
      "metadata": {
        "id": "AZgMtrOjwKzU"
      },
      "source": [
        "# Modelo Cox"
      ]
    },
    {
      "cell_type": "markdown",
      "metadata": {
        "id": "ehKQ6YruxRNd"
      },
      "source": [
        "Para este modelo vamos a elegir las variables:\n",
        "\n",
        "Extranjero esto puede aumenatr o disminuir el riesgo dependiendo de que pais sea la persona que pidio el credito.\n",
        "\n",
        "Edad ya que el tener más de 65 años indica que la persona esta jubilado y en este caso puede aumentar el riesgo de no pagar.\n",
        "\n",
        "Numero de creditos ya que el tener muchos creditos puede llevar al impago de uno de estos.\n",
        "\n",
        "Dependientes economicos ya que al tener gente que depende economicamente de ti puede aumentar los gastos que tienen lo que puede llevar a incrementar el riesgo de impago.\n",
        "\n",
        "Tasa de interes ya que el tener un interes alto lleva a tener un riesgo mayor de impago.\n",
        "\n",
        "Cantidad ya que el tener un prestamo grande puede llevar a tener un riesgo de impago alto."
      ]
    },
    {
      "cell_type": "code",
      "execution_count": 22,
      "metadata": {
        "colab": {
          "base_uri": "https://localhost:8080/"
        },
        "id": "nBogxzrs1ijH",
        "outputId": "64c790d0-5fbd-4380-831b-9b7d2d88ddee"
      },
      "outputs": [
        {
          "data": {
            "text/plain": [
              "saldo_cuenta                 0\n",
              "meses                        0\n",
              "historia_crediticia          0\n",
              "uso                          0\n",
              "cantidad                     0\n",
              "saldo_cuenta_ahorro        183\n",
              "años_trabajando              0\n",
              "tasa_de_interes              0\n",
              "genero_estado_civil          0\n",
              "aval                       948\n",
              "años_actual_domicilio        0\n",
              "activos                      0\n",
              "edad                         0\n",
              "planes_de_pago             814\n",
              "casa                         0\n",
              "numero_creditos              0\n",
              "situacion_laboral            0\n",
              "dependientes_economicos      0\n",
              "telefono                     0\n",
              "extranjero                   0\n",
              "credito_pagado               0\n",
              "dtype: int64"
            ]
          },
          "execution_count": 22,
          "metadata": {},
          "output_type": "execute_result"
        }
      ],
      "source": [
        "data.isnull().sum()"
      ]
    },
    {
      "cell_type": "code",
      "execution_count": 23,
      "metadata": {
        "id": "crXQj9zV1__t"
      },
      "outputs": [],
      "source": [
        "data=data.drop('saldo_cuenta',axis=1)\n",
        "data=data.drop('uso',axis=1)\n",
        "data=data.drop('saldo_cuenta_ahorro',axis=1)\n",
        "data=data.drop('genero_estado_civil',axis=1)\n",
        "data=data.drop('aval',axis=1)\n",
        "data=data.drop('activos',axis=1)\n",
        "data=data.drop('planes_de_pago',axis=1)\n",
        "data=data.drop('casa',axis=1)\n",
        "data=data.drop('situacion_laboral',axis=1)\n",
        "data=data.drop('años_trabajando',axis=1)\n",
        "data=data.drop('historia_crediticia',axis=1)\n",
        "data=data.drop('años_actual_domicilio',axis=1)\n",
        "data=data.drop('telefono',axis=1)"
      ]
    },
    {
      "cell_type": "code",
      "execution_count": 24,
      "metadata": {
        "colab": {
          "base_uri": "https://localhost:8080/"
        },
        "id": "et4_Nczh1phd",
        "outputId": "c911b2a7-220a-430e-e28a-2248eb107a68"
      },
      "outputs": [
        {
          "data": {
            "text/plain": [
              "meses                      int64\n",
              "cantidad                   int64\n",
              "tasa_de_interes            int64\n",
              "edad                       int64\n",
              "numero_creditos            int64\n",
              "dependientes_economicos    int64\n",
              "extranjero                 int64\n",
              "credito_pagado             int64\n",
              "dtype: object"
            ]
          },
          "execution_count": 24,
          "metadata": {},
          "output_type": "execute_result"
        }
      ],
      "source": [
        "data.dtypes"
      ]
    },
    {
      "cell_type": "code",
      "execution_count": 25,
      "metadata": {
        "id": "ELMl4NNe00dj"
      },
      "outputs": [],
      "source": [
        "data=data.dropna()"
      ]
    },
    {
      "cell_type": "code",
      "execution_count": 26,
      "metadata": {
        "colab": {
          "base_uri": "https://localhost:8080/",
          "height": 770
        },
        "id": "3-NWY4wC5zeZ",
        "outputId": "d89ccbe3-1f9a-41d6-f4bc-bc5558d530a8"
      },
      "outputs": [
        {
          "ename": "ImportError",
          "evalue": "Missing optional dependency 'Jinja2'. DataFrame.style requires jinja2. Use pip or conda to install Jinja2.",
          "output_type": "error",
          "traceback": [
            "\u001b[1;31m---------------------------------------------------------------------------\u001b[0m",
            "\u001b[1;31mModuleNotFoundError\u001b[0m                       Traceback (most recent call last)",
            "File \u001b[1;32mc:\\Users\\jorge\\AppData\\Local\\Programs\\Python\\Python311\\Lib\\site-packages\\pandas\\compat\\_optional.py:132\u001b[0m, in \u001b[0;36mimport_optional_dependency\u001b[1;34m(name, extra, errors, min_version)\u001b[0m\n\u001b[0;32m    131\u001b[0m \u001b[39mtry\u001b[39;00m:\n\u001b[1;32m--> 132\u001b[0m     module \u001b[39m=\u001b[39m importlib\u001b[39m.\u001b[39;49mimport_module(name)\n\u001b[0;32m    133\u001b[0m \u001b[39mexcept\u001b[39;00m \u001b[39mImportError\u001b[39;00m:\n",
            "File \u001b[1;32mc:\\Users\\jorge\\AppData\\Local\\Programs\\Python\\Python311\\Lib\\importlib\\__init__.py:126\u001b[0m, in \u001b[0;36mimport_module\u001b[1;34m(name, package)\u001b[0m\n\u001b[0;32m    125\u001b[0m         level \u001b[39m+\u001b[39m\u001b[39m=\u001b[39m \u001b[39m1\u001b[39m\n\u001b[1;32m--> 126\u001b[0m \u001b[39mreturn\u001b[39;00m _bootstrap\u001b[39m.\u001b[39;49m_gcd_import(name[level:], package, level)\n",
            "File \u001b[1;32m<frozen importlib._bootstrap>:1204\u001b[0m, in \u001b[0;36m_gcd_import\u001b[1;34m(name, package, level)\u001b[0m\n",
            "File \u001b[1;32m<frozen importlib._bootstrap>:1176\u001b[0m, in \u001b[0;36m_find_and_load\u001b[1;34m(name, import_)\u001b[0m\n",
            "File \u001b[1;32m<frozen importlib._bootstrap>:1140\u001b[0m, in \u001b[0;36m_find_and_load_unlocked\u001b[1;34m(name, import_)\u001b[0m\n",
            "\u001b[1;31mModuleNotFoundError\u001b[0m: No module named 'jinja2'",
            "\nDuring handling of the above exception, another exception occurred:\n",
            "\u001b[1;31mImportError\u001b[0m                               Traceback (most recent call last)",
            "File \u001b[1;32m~\\AppData\\Roaming\\Python\\Python311\\site-packages\\IPython\\core\\formatters.py:344\u001b[0m, in \u001b[0;36mBaseFormatter.__call__\u001b[1;34m(self, obj)\u001b[0m\n\u001b[0;32m    342\u001b[0m     method \u001b[39m=\u001b[39m get_real_method(obj, \u001b[39mself\u001b[39m\u001b[39m.\u001b[39mprint_method)\n\u001b[0;32m    343\u001b[0m     \u001b[39mif\u001b[39;00m method \u001b[39mis\u001b[39;00m \u001b[39mnot\u001b[39;00m \u001b[39mNone\u001b[39;00m:\n\u001b[1;32m--> 344\u001b[0m         \u001b[39mreturn\u001b[39;00m method()\n\u001b[0;32m    345\u001b[0m     \u001b[39mreturn\u001b[39;00m \u001b[39mNone\u001b[39;00m\n\u001b[0;32m    346\u001b[0m \u001b[39melse\u001b[39;00m:\n",
            "File \u001b[1;32mc:\\Users\\jorge\\AppData\\Local\\Programs\\Python\\Python311\\Lib\\site-packages\\lifelines\\utils\\printer.py:185\u001b[0m, in \u001b[0;36mPrinter._repr_latex_\u001b[1;34m(self)\u001b[0m\n\u001b[0;32m    182\u001b[0m \u001b[39mdef\u001b[39;00m \u001b[39m_repr_latex_\u001b[39m(\n\u001b[0;32m    183\u001b[0m     \u001b[39mself\u001b[39m,\n\u001b[0;32m    184\u001b[0m ):\n\u001b[1;32m--> 185\u001b[0m     \u001b[39mreturn\u001b[39;00m \u001b[39mself\u001b[39;49m\u001b[39m.\u001b[39;49mto_latex()\n",
            "File \u001b[1;32mc:\\Users\\jorge\\AppData\\Local\\Programs\\Python\\Python311\\Lib\\site-packages\\lifelines\\utils\\printer.py:62\u001b[0m, in \u001b[0;36mPrinter.to_latex\u001b[1;34m(self)\u001b[0m\n\u001b[0;32m     60\u001b[0m \u001b[39melse\u001b[39;00m:\n\u001b[0;32m     61\u001b[0m     columns \u001b[39m=\u001b[39m summary_df\u001b[39m.\u001b[39mcolumns\u001b[39m.\u001b[39mintersection(\u001b[39mself\u001b[39m\u001b[39m.\u001b[39mcolumns)\n\u001b[1;32m---> 62\u001b[0m s \u001b[39m=\u001b[39m summary_df[columns]\u001b[39m.\u001b[39;49mstyle\n\u001b[0;32m     63\u001b[0m s \u001b[39m=\u001b[39m s\u001b[39m.\u001b[39mformat(precision\u001b[39m=\u001b[39m\u001b[39mself\u001b[39m\u001b[39m.\u001b[39mdecimals)\n\u001b[0;32m     64\u001b[0m \u001b[39mreturn\u001b[39;00m s\u001b[39m.\u001b[39mto_latex()\n",
            "File \u001b[1;32mc:\\Users\\jorge\\AppData\\Local\\Programs\\Python\\Python311\\Lib\\site-packages\\pandas\\core\\frame.py:1341\u001b[0m, in \u001b[0;36mDataFrame.style\u001b[1;34m(self)\u001b[0m\n\u001b[0;32m   1321\u001b[0m \u001b[39m@property\u001b[39m\n\u001b[0;32m   1322\u001b[0m \u001b[39mdef\u001b[39;00m \u001b[39mstyle\u001b[39m(\u001b[39mself\u001b[39m) \u001b[39m-\u001b[39m\u001b[39m>\u001b[39m Styler:\n\u001b[0;32m   1323\u001b[0m \u001b[39m    \u001b[39m\u001b[39m\"\"\"\u001b[39;00m\n\u001b[0;32m   1324\u001b[0m \u001b[39m    Returns a Styler object.\u001b[39;00m\n\u001b[0;32m   1325\u001b[0m \n\u001b[1;32m   (...)\u001b[0m\n\u001b[0;32m   1339\u001b[0m \u001b[39m    `Table Visualization <../../user_guide/style.ipynb>`_ for more examples.\u001b[39;00m\n\u001b[0;32m   1340\u001b[0m \u001b[39m    \"\"\"\u001b[39;00m\n\u001b[1;32m-> 1341\u001b[0m     \u001b[39mfrom\u001b[39;00m \u001b[39mpandas\u001b[39;00m\u001b[39m.\u001b[39;00m\u001b[39mio\u001b[39;00m\u001b[39m.\u001b[39;00m\u001b[39mformats\u001b[39;00m\u001b[39m.\u001b[39;00m\u001b[39mstyle\u001b[39;00m \u001b[39mimport\u001b[39;00m Styler\n\u001b[0;32m   1343\u001b[0m     \u001b[39mreturn\u001b[39;00m Styler(\u001b[39mself\u001b[39m)\n",
            "File \u001b[1;32mc:\\Users\\jorge\\AppData\\Local\\Programs\\Python\\Python311\\Lib\\site-packages\\pandas\\io\\formats\\style.py:44\u001b[0m\n\u001b[0;32m     40\u001b[0m \u001b[39mfrom\u001b[39;00m \u001b[39mpandas\u001b[39;00m\u001b[39m.\u001b[39;00m\u001b[39mcore\u001b[39;00m\u001b[39m.\u001b[39;00m\u001b[39mshared_docs\u001b[39;00m \u001b[39mimport\u001b[39;00m _shared_docs\n\u001b[0;32m     42\u001b[0m \u001b[39mfrom\u001b[39;00m \u001b[39mpandas\u001b[39;00m\u001b[39m.\u001b[39;00m\u001b[39mio\u001b[39;00m\u001b[39m.\u001b[39;00m\u001b[39mformats\u001b[39;00m\u001b[39m.\u001b[39;00m\u001b[39mformat\u001b[39;00m \u001b[39mimport\u001b[39;00m save_to_buffer\n\u001b[1;32m---> 44\u001b[0m jinja2 \u001b[39m=\u001b[39m import_optional_dependency(\u001b[39m\"\u001b[39;49m\u001b[39mjinja2\u001b[39;49m\u001b[39m\"\u001b[39;49m, extra\u001b[39m=\u001b[39;49m\u001b[39m\"\u001b[39;49m\u001b[39mDataFrame.style requires jinja2.\u001b[39;49m\u001b[39m\"\u001b[39;49m)\n\u001b[0;32m     46\u001b[0m \u001b[39mfrom\u001b[39;00m \u001b[39mpandas\u001b[39;00m\u001b[39m.\u001b[39;00m\u001b[39mio\u001b[39;00m\u001b[39m.\u001b[39;00m\u001b[39mformats\u001b[39;00m\u001b[39m.\u001b[39;00m\u001b[39mstyle_render\u001b[39;00m \u001b[39mimport\u001b[39;00m (\n\u001b[0;32m     47\u001b[0m     CSSProperties,\n\u001b[0;32m     48\u001b[0m     CSSStyles,\n\u001b[1;32m   (...)\u001b[0m\n\u001b[0;32m     56\u001b[0m     refactor_levels,\n\u001b[0;32m     57\u001b[0m )\n\u001b[0;32m     59\u001b[0m \u001b[39mif\u001b[39;00m TYPE_CHECKING:\n",
            "File \u001b[1;32mc:\\Users\\jorge\\AppData\\Local\\Programs\\Python\\Python311\\Lib\\site-packages\\pandas\\compat\\_optional.py:135\u001b[0m, in \u001b[0;36mimport_optional_dependency\u001b[1;34m(name, extra, errors, min_version)\u001b[0m\n\u001b[0;32m    133\u001b[0m \u001b[39mexcept\u001b[39;00m \u001b[39mImportError\u001b[39;00m:\n\u001b[0;32m    134\u001b[0m     \u001b[39mif\u001b[39;00m errors \u001b[39m==\u001b[39m \u001b[39m\"\u001b[39m\u001b[39mraise\u001b[39m\u001b[39m\"\u001b[39m:\n\u001b[1;32m--> 135\u001b[0m         \u001b[39mraise\u001b[39;00m \u001b[39mImportError\u001b[39;00m(msg)\n\u001b[0;32m    136\u001b[0m     \u001b[39mreturn\u001b[39;00m \u001b[39mNone\u001b[39;00m\n\u001b[0;32m    138\u001b[0m \u001b[39m# Handle submodules: if we have submodule, grab parent module from sys.modules\u001b[39;00m\n",
            "\u001b[1;31mImportError\u001b[0m: Missing optional dependency 'Jinja2'. DataFrame.style requires jinja2. Use pip or conda to install Jinja2."
          ]
        },
        {
          "data": {
            "text/html": [
              "<div>\n",
              "<style scoped>\n",
              "    .dataframe tbody tr th:only-of-type {\n",
              "        vertical-align: middle;\n",
              "    }\n",
              "\n",
              "    .dataframe tbody tr th {\n",
              "        vertical-align: top;\n",
              "    }\n",
              "\n",
              "    .dataframe thead th {\n",
              "        text-align: right;\n",
              "    }\n",
              "</style>\n",
              "<table border=\"1\" class=\"dataframe\">\n",
              "  <tbody>\n",
              "    <tr>\n",
              "      <th>model</th>\n",
              "      <td>lifelines.CoxPHFitter</td>\n",
              "    </tr>\n",
              "    <tr>\n",
              "      <th>duration col</th>\n",
              "      <td>'meses'</td>\n",
              "    </tr>\n",
              "    <tr>\n",
              "      <th>event col</th>\n",
              "      <td>'credito_pagado'</td>\n",
              "    </tr>\n",
              "    <tr>\n",
              "      <th>baseline estimation</th>\n",
              "      <td>breslow</td>\n",
              "    </tr>\n",
              "    <tr>\n",
              "      <th>number of observations</th>\n",
              "      <td>1000</td>\n",
              "    </tr>\n",
              "    <tr>\n",
              "      <th>number of events observed</th>\n",
              "      <td>700</td>\n",
              "    </tr>\n",
              "    <tr>\n",
              "      <th>partial log-likelihood</th>\n",
              "      <td>-4042.59</td>\n",
              "    </tr>\n",
              "    <tr>\n",
              "      <th>time fit was run</th>\n",
              "      <td>2023-10-07 02:20:46 UTC</td>\n",
              "    </tr>\n",
              "  </tbody>\n",
              "</table>\n",
              "</div><table border=\"1\" class=\"dataframe\">\n",
              "  <thead>\n",
              "    <tr style=\"text-align: right;\">\n",
              "      <th style=\"min-width: 12px;\"></th>\n",
              "      <th style=\"min-width: 12px;\">coef</th>\n",
              "      <th style=\"min-width: 12px;\">exp(coef)</th>\n",
              "      <th style=\"min-width: 12px;\">se(coef)</th>\n",
              "      <th style=\"min-width: 12px;\">coef lower 95%</th>\n",
              "      <th style=\"min-width: 12px;\">coef upper 95%</th>\n",
              "      <th style=\"min-width: 12px;\">exp(coef) lower 95%</th>\n",
              "      <th style=\"min-width: 12px;\">exp(coef) upper 95%</th>\n",
              "      <th style=\"min-width: 12px;\">cmp to</th>\n",
              "      <th style=\"min-width: 12px;\">z</th>\n",
              "      <th style=\"min-width: 12px;\">p</th>\n",
              "      <th style=\"min-width: 12px;\">-log2(p)</th>\n",
              "    </tr>\n",
              "  </thead>\n",
              "  <tbody>\n",
              "    <tr>\n",
              "      <th>cantidad</th>\n",
              "      <td>-0.00</td>\n",
              "      <td>1.00</td>\n",
              "      <td>0.00</td>\n",
              "      <td>-0.00</td>\n",
              "      <td>-0.00</td>\n",
              "      <td>1.00</td>\n",
              "      <td>1.00</td>\n",
              "      <td>0.00</td>\n",
              "      <td>-16.35</td>\n",
              "      <td>&lt;0.005</td>\n",
              "      <td>197.14</td>\n",
              "    </tr>\n",
              "    <tr>\n",
              "      <th>tasa_de_interes</th>\n",
              "      <td>-0.41</td>\n",
              "      <td>0.67</td>\n",
              "      <td>0.04</td>\n",
              "      <td>-0.48</td>\n",
              "      <td>-0.33</td>\n",
              "      <td>0.62</td>\n",
              "      <td>0.72</td>\n",
              "      <td>0.00</td>\n",
              "      <td>-11.10</td>\n",
              "      <td>&lt;0.005</td>\n",
              "      <td>92.71</td>\n",
              "    </tr>\n",
              "    <tr>\n",
              "      <th>edad</th>\n",
              "      <td>0.02</td>\n",
              "      <td>1.02</td>\n",
              "      <td>0.00</td>\n",
              "      <td>0.01</td>\n",
              "      <td>0.02</td>\n",
              "      <td>1.01</td>\n",
              "      <td>1.02</td>\n",
              "      <td>0.00</td>\n",
              "      <td>4.51</td>\n",
              "      <td>&lt;0.005</td>\n",
              "      <td>17.24</td>\n",
              "    </tr>\n",
              "    <tr>\n",
              "      <th>numero_creditos</th>\n",
              "      <td>0.12</td>\n",
              "      <td>1.13</td>\n",
              "      <td>0.07</td>\n",
              "      <td>-0.01</td>\n",
              "      <td>0.26</td>\n",
              "      <td>0.99</td>\n",
              "      <td>1.29</td>\n",
              "      <td>0.00</td>\n",
              "      <td>1.86</td>\n",
              "      <td>0.06</td>\n",
              "      <td>3.98</td>\n",
              "    </tr>\n",
              "    <tr>\n",
              "      <th>dependientes_economicos</th>\n",
              "      <td>-0.00</td>\n",
              "      <td>1.00</td>\n",
              "      <td>0.11</td>\n",
              "      <td>-0.21</td>\n",
              "      <td>0.21</td>\n",
              "      <td>0.81</td>\n",
              "      <td>1.23</td>\n",
              "      <td>0.00</td>\n",
              "      <td>-0.01</td>\n",
              "      <td>0.99</td>\n",
              "      <td>0.02</td>\n",
              "    </tr>\n",
              "    <tr>\n",
              "      <th>extranjero</th>\n",
              "      <td>-1.19</td>\n",
              "      <td>0.31</td>\n",
              "      <td>0.18</td>\n",
              "      <td>-1.55</td>\n",
              "      <td>-0.83</td>\n",
              "      <td>0.21</td>\n",
              "      <td>0.44</td>\n",
              "      <td>0.00</td>\n",
              "      <td>-6.45</td>\n",
              "      <td>&lt;0.005</td>\n",
              "      <td>33.03</td>\n",
              "    </tr>\n",
              "  </tbody>\n",
              "</table><br><div>\n",
              "<style scoped>\n",
              "    .dataframe tbody tr th:only-of-type {\n",
              "        vertical-align: middle;\n",
              "    }\n",
              "\n",
              "    .dataframe tbody tr th {\n",
              "        vertical-align: top;\n",
              "    }\n",
              "\n",
              "    .dataframe thead th {\n",
              "        text-align: right;\n",
              "    }\n",
              "</style>\n",
              "<table border=\"1\" class=\"dataframe\">\n",
              "  <tbody>\n",
              "    <tr>\n",
              "      <th>Concordance</th>\n",
              "      <td>0.78</td>\n",
              "    </tr>\n",
              "    <tr>\n",
              "      <th>Partial AIC</th>\n",
              "      <td>8097.19</td>\n",
              "    </tr>\n",
              "    <tr>\n",
              "      <th>log-likelihood ratio test</th>\n",
              "      <td>453.58 on 6 df</td>\n",
              "    </tr>\n",
              "    <tr>\n",
              "      <th>-log2(p) of ll-ratio test</th>\n",
              "      <td>312.53</td>\n",
              "    </tr>\n",
              "  </tbody>\n",
              "</table>\n",
              "</div>"
            ],
            "text/plain": [
              "<lifelines.CoxPHFitter: fitted with 1000 total observations, 300 right-censored observations>\n",
              "             duration col = 'meses'\n",
              "                event col = 'credito_pagado'\n",
              "      baseline estimation = breslow\n",
              "   number of observations = 1000\n",
              "number of events observed = 700\n",
              "   partial log-likelihood = -4042.59\n",
              "         time fit was run = 2023-10-07 02:20:46 UTC\n",
              "\n",
              "---\n",
              "                          coef  exp(coef)   se(coef)   coef lower 95%   coef upper 95%  exp(coef) lower 95%  exp(coef) upper 95%\n",
              "covariate                                                                                                                       \n",
              "cantidad                 -0.00       1.00       0.00            -0.00            -0.00                 1.00                 1.00\n",
              "tasa_de_interes          -0.41       0.67       0.04            -0.48            -0.33                 0.62                 0.72\n",
              "edad                      0.02       1.02       0.00             0.01             0.02                 1.01                 1.02\n",
              "numero_creditos           0.12       1.13       0.07            -0.01             0.26                 0.99                 1.29\n",
              "dependientes_economicos  -0.00       1.00       0.11            -0.21             0.21                 0.81                 1.23\n",
              "extranjero               -1.19       0.31       0.18            -1.55            -0.83                 0.21                 0.44\n",
              "\n",
              "                          cmp to      z      p   -log2(p)\n",
              "covariate                                                \n",
              "cantidad                    0.00 -16.35 <0.005     197.14\n",
              "tasa_de_interes             0.00 -11.10 <0.005      92.71\n",
              "edad                        0.00   4.51 <0.005      17.24\n",
              "numero_creditos             0.00   1.86   0.06       3.98\n",
              "dependientes_economicos     0.00  -0.01   0.99       0.02\n",
              "extranjero                  0.00  -6.45 <0.005      33.03\n",
              "---\n",
              "Concordance = 0.78\n",
              "Partial AIC = 8097.19\n",
              "log-likelihood ratio test = 453.58 on 6 df\n",
              "-log2(p) of ll-ratio test = 312.53"
            ]
          },
          "metadata": {},
          "output_type": "display_data"
        },
        {
          "data": {
            "text/plain": [
              "covariate\n",
              "cantidad                   0.999621\n",
              "tasa_de_interes            0.665874\n",
              "edad                       1.015288\n",
              "numero_creditos            1.132897\n",
              "dependientes_economicos    0.998525\n",
              "extranjero                 0.305123\n",
              "Name: exp(coef), dtype: float64"
            ]
          },
          "execution_count": 26,
          "metadata": {},
          "output_type": "execute_result"
        }
      ],
      "source": [
        "cph1 = CoxPHFitter().fit(data, 'meses', 'credito_pagado')\n",
        "cph1.print_summary()\n",
        "cph1.params_\n",
        "cph1.hazard_ratios_"
      ]
    },
    {
      "cell_type": "markdown",
      "metadata": {
        "id": "srnYfLYXDXMj"
      },
      "source": [
        "**Cantidad**, Se rechaza H0, La cantidad prestada disminuye el riesgo de no terminar de pagar en un 0.0379%.\n",
        "\n",
        "**Tasa de interes**, Se rechaza H0, La tasa de interes disminuye el riesgo de no terminar de pagar en un 33%.\n",
        "\n",
        "**edad**, Se rechaza H0, la edad incrementa el riesgo de no terminar de pagar en un 2%.\n",
        "\n",
        "**Número de creditos**, No se rechaza H0, el numero de creditos que tiene la persona no afecta el riesgo de no terminar de pagar.\n",
        "\n",
        "**Dependientes económicos**, No se rechaza H0, el numero de personas que dependen de ti no afecta el riesgo de no terminar de pagar.\n",
        "\n",
        "**Extranjero**, Se rechaza H0, el ser extranjero disminuye en un 69% el riesgo de no terminar de pagar con respecto a los que no son extranjeros."
      ]
    },
    {
      "cell_type": "markdown",
      "metadata": {
        "id": "SjBhelVY8Z7V"
      },
      "source": [
        "La base de datos corresponde a la empresa Banco de la Ilusión en donde se encuentra la información de 1000 clientes los cuales pidieron préstamos de acuerdo con sus necesidades, esta base de datos se divide en 21 variables de las cuales las más importantes son: los meses que llevan pagando su crédito, la cantidad que pidieron de crédito, la tasa de interés que aceptaron pagar, la edad de los clientes, el número de créditos que han pedido hasta el momento, los dependientes económicos que tienen a su cargo, si son extranjeros, si ya terminaron de pagar su crédito y otras.\n",
        "\n",
        "En análisis rápido descubrimos que en promedio el banco presta 3271.258 euros por cada préstamo que hace, las personas que ya terminaron de pagar su crédito les toma 19.21 meses en promedio y tienen una tasa de interés del 2.97% y en cuanto a las personas que aún no han terminado de pagar tienen una tasa de interés del 3.097%.\n",
        "\n",
        "La función de riesgo sigue una función LogNormal lo que significa que en un principio el riesgo va ir creciendo hasta que llegue a su punto máximo (en promedio a los 24 meses) y luego va ir decayendo, algo que puede hacer la empresa para disminuir el riesgo de que sus clientes no terminen de pagar es: evitar prestar cantidades muy grandes ya que esto disminuye el riesgo en un 0.0379%, evitar dar tasas de intereses muy grandes ya que esto disminuye el riesgo en 33%, evitar prestar dinero a los clientes que son mayores de edad ya que esto incrementar el riesgo en un 2% e intentar prestarle dinero a los clientes extranjeros ya que estos tiene un riesgo menor con respecto a los que no son extranjeros."
      ]
    }
  ],
  "metadata": {
    "colab": {
      "provenance": []
    },
    "kernelspec": {
      "display_name": "Python 3",
      "name": "python3"
    },
    "language_info": {
      "codemirror_mode": {
        "name": "ipython",
        "version": 3
      },
      "file_extension": ".py",
      "mimetype": "text/x-python",
      "name": "python",
      "nbconvert_exporter": "python",
      "pygments_lexer": "ipython3",
      "version": "3.11.5"
    }
  },
  "nbformat": 4,
  "nbformat_minor": 0
}
