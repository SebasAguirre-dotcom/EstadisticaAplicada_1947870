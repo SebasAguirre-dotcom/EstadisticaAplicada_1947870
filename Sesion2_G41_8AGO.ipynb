{
 "cells": [
  {
   "cell_type": "markdown",
   "metadata": {},
   "source": [
    "# Estadistica Aplicada\n",
    "\n",
    "Sesión 2, 9 agosto\n",
    "\n",
    "Jorge Sebastian Aguirre Jimenez 1947870"
   ]
  },
  {
   "cell_type": "markdown",
   "metadata": {},
   "source": [
    "Una Lista en python es una colección de objetos que pueden ser de distinto tipo "
   ]
  },
  {
   "cell_type": "markdown",
   "metadata": {},
   "source": [
    "nombrelista= [objeto1, objeto2, objeto3, etc.]"
   ]
  },
  {
   "cell_type": "code",
   "execution_count": 1,
   "metadata": {},
   "outputs": [],
   "source": [
    "alumno1= [\"Sebastian\", \"Aguirre\", 19]"
   ]
  },
  {
   "cell_type": "code",
   "execution_count": 2,
   "metadata": {},
   "outputs": [
    {
     "data": {
      "text/plain": [
       "list"
      ]
     },
     "execution_count": 2,
     "metadata": {},
     "output_type": "execute_result"
    }
   ],
   "source": [
    "type(alumno1)"
   ]
  },
  {
   "cell_type": "code",
   "execution_count": 3,
   "metadata": {},
   "outputs": [
    {
     "data": {
      "text/plain": [
       "['Sebastian', 'Aguirre', 19]"
      ]
     },
     "execution_count": 3,
     "metadata": {},
     "output_type": "execute_result"
    }
   ],
   "source": [
    "alumno1"
   ]
  },
  {
   "cell_type": "code",
   "execution_count": 7,
   "metadata": {},
   "outputs": [],
   "source": [
    "#crear una lista con los alumnos del grupo\n",
    "estadistica_g4= [\"Juan\",\"Raul\", \"Jimena\", \"Alejandra\"]"
   ]
  },
  {
   "cell_type": "code",
   "execution_count": 8,
   "metadata": {},
   "outputs": [
    {
     "data": {
      "text/plain": [
       "['Juan', 'Raul', 'Jimena', 'Alejandra']"
      ]
     },
     "execution_count": 8,
     "metadata": {},
     "output_type": "execute_result"
    }
   ],
   "source": [
    "estadistica_g4"
   ]
  },
  {
   "cell_type": "code",
   "execution_count": 9,
   "metadata": {},
   "outputs": [
    {
     "data": {
      "text/plain": [
       "'Alejandra'"
      ]
     },
     "execution_count": 9,
     "metadata": {},
     "output_type": "execute_result"
    }
   ],
   "source": [
    "estadistica_g4[3]"
   ]
  },
  {
   "cell_type": "code",
   "execution_count": 10,
   "metadata": {},
   "outputs": [
    {
     "data": {
      "text/plain": [
       "'Juan'"
      ]
     },
     "execution_count": 10,
     "metadata": {},
     "output_type": "execute_result"
    }
   ],
   "source": [
    "estadistica_g4[0]"
   ]
  },
  {
   "cell_type": "code",
   "execution_count": 18,
   "metadata": {},
   "outputs": [
    {
     "data": {
      "text/plain": [
       "['Juan', 'Alejandra']"
      ]
     },
     "execution_count": 18,
     "metadata": {},
     "output_type": "execute_result"
    }
   ],
   "source": [
    "estadistica_g4[0::3]"
   ]
  },
  {
   "cell_type": "code",
   "execution_count": 21,
   "metadata": {},
   "outputs": [
    {
     "data": {
      "text/plain": [
       "['Juan', 'Raul', 'Jimena']"
      ]
     },
     "execution_count": 21,
     "metadata": {},
     "output_type": "execute_result"
    }
   ],
   "source": [
    "estadistica_g4[0:3]"
   ]
  },
  {
   "cell_type": "code",
   "execution_count": 22,
   "metadata": {},
   "outputs": [
    {
     "data": {
      "text/plain": [
       "'Alejandra'"
      ]
     },
     "execution_count": 22,
     "metadata": {},
     "output_type": "execute_result"
    }
   ],
   "source": [
    "estadistica_g4[-1]"
   ]
  },
  {
   "cell_type": "code",
   "execution_count": 23,
   "metadata": {},
   "outputs": [],
   "source": [
    "estadistica_g4.remove('Jimena')"
   ]
  },
  {
   "cell_type": "code",
   "execution_count": 24,
   "metadata": {},
   "outputs": [
    {
     "data": {
      "text/plain": [
       "['Juan', 'Raul', 'Alejandra']"
      ]
     },
     "execution_count": 24,
     "metadata": {},
     "output_type": "execute_result"
    }
   ],
   "source": [
    "estadistica_g4"
   ]
  },
  {
   "cell_type": "code",
   "execution_count": 33,
   "metadata": {},
   "outputs": [],
   "source": [
    "estadistica_g4.append('Sebastian')"
   ]
  },
  {
   "cell_type": "code",
   "execution_count": 34,
   "metadata": {},
   "outputs": [
    {
     "data": {
      "text/plain": [
       "['Juan', 'Raul', 'Alejandra', 'Sebastian']"
      ]
     },
     "execution_count": 34,
     "metadata": {},
     "output_type": "execute_result"
    }
   ],
   "source": [
    "estadistica_g4"
   ]
  },
  {
   "cell_type": "code",
   "execution_count": 36,
   "metadata": {},
   "outputs": [],
   "source": [
    "amigos_bff= [\"Ricardo\", \"Adrian\",\"Sebastian\"]"
   ]
  },
  {
   "cell_type": "code",
   "execution_count": 37,
   "metadata": {},
   "outputs": [],
   "source": [
    "yo=amigos_bff[2]"
   ]
  },
  {
   "cell_type": "code",
   "execution_count": 38,
   "metadata": {},
   "outputs": [
    {
     "data": {
      "text/plain": [
       "'Sebastian'"
      ]
     },
     "execution_count": 38,
     "metadata": {},
     "output_type": "execute_result"
    }
   ],
   "source": [
    "yo"
   ]
  },
  {
   "cell_type": "code",
   "execution_count": 39,
   "metadata": {},
   "outputs": [],
   "source": [
    "yo_enFCFM=[\"Sebastian\",\"LA\",7,9]"
   ]
  },
  {
   "cell_type": "code",
   "execution_count": 40,
   "metadata": {},
   "outputs": [],
   "source": [
    "mi_promedio=yo_enFCFM[3]"
   ]
  },
  {
   "cell_type": "code",
   "execution_count": 41,
   "metadata": {},
   "outputs": [],
   "source": [
    "mi_carrera=yo_enFCFM[1]"
   ]
  },
  {
   "cell_type": "code",
   "execution_count": 44,
   "metadata": {},
   "outputs": [
    {
     "data": {
      "text/plain": [
       "(9, 'LA')"
      ]
     },
     "execution_count": 44,
     "metadata": {},
     "output_type": "execute_result"
    }
   ],
   "source": [
    "mi_promedio, mi_carrera"
   ]
  },
  {
   "cell_type": "markdown",
   "metadata": {},
   "source": [
    "1. Instalar la libreria (solo una vez)\n",
    "2. Decirle a python que use la libreria"
   ]
  },
  {
   "cell_type": "markdown",
   "metadata": {},
   "source": [
    "instalar una libreria llamada yahoo finance"
   ]
  },
  {
   "cell_type": "code",
   "execution_count": 45,
   "metadata": {},
   "outputs": [
    {
     "name": "stdout",
     "output_type": "stream",
     "text": [
      "Collecting yfinance\n",
      "  Downloading yfinance-0.2.27-py2.py3-none-any.whl (63 kB)\n",
      "                                              0.0/63.2 kB ? eta -:--:--\n",
      "     -------------------------                41.0/63.2 kB 1.9 MB/s eta 0:00:01\n",
      "     -------------------------------------- 63.2/63.2 kB 678.6 kB/s eta 0:00:00\n",
      "Collecting pandas>=1.3.0 (from yfinance)\n",
      "  Downloading pandas-2.0.3-cp311-cp311-win_amd64.whl (10.6 MB)\n",
      "                                              0.0/10.6 MB ? eta -:--:--\n",
      "                                              0.1/10.6 MB ? eta -:--:--\n",
      "     -                                        0.3/10.6 MB 3.4 MB/s eta 0:00:04\n",
      "     -                                        0.5/10.6 MB 3.6 MB/s eta 0:00:03\n",
      "     --                                       0.7/10.6 MB 3.8 MB/s eta 0:00:03\n",
      "     ---                                      1.0/10.6 MB 4.6 MB/s eta 0:00:03\n",
      "     -----                                    1.5/10.6 MB 5.5 MB/s eta 0:00:02\n",
      "     -------                                  2.0/10.6 MB 6.2 MB/s eta 0:00:02\n",
      "     ---------                                2.5/10.6 MB 7.0 MB/s eta 0:00:02\n",
      "     -----------                              3.1/10.6 MB 7.6 MB/s eta 0:00:01\n",
      "     -------------                            3.7/10.6 MB 8.0 MB/s eta 0:00:01\n",
      "     ---------------                          4.2/10.6 MB 8.4 MB/s eta 0:00:01\n",
      "     -----------------                        4.8/10.6 MB 8.7 MB/s eta 0:00:01\n",
      "     --------------------                     5.3/10.6 MB 9.0 MB/s eta 0:00:01\n",
      "     ----------------------                   5.9/10.6 MB 9.2 MB/s eta 0:00:01\n",
      "     ------------------------                 6.4/10.6 MB 9.3 MB/s eta 0:00:01\n",
      "     --------------------------               7.0/10.6 MB 9.5 MB/s eta 0:00:01\n",
      "     ----------------------------             7.5/10.6 MB 9.6 MB/s eta 0:00:01\n",
      "     ------------------------------           8.1/10.6 MB 9.7 MB/s eta 0:00:01\n",
      "     --------------------------------         8.6/10.6 MB 9.8 MB/s eta 0:00:01\n",
      "     ----------------------------------       9.2/10.6 MB 10.0 MB/s eta 0:00:01\n",
      "     ------------------------------------     9.8/10.6 MB 10.1 MB/s eta 0:00:01\n",
      "     -------------------------------------   10.3/10.6 MB 10.4 MB/s eta 0:00:01\n",
      "     --------------------------------------  10.6/10.6 MB 10.9 MB/s eta 0:00:01\n",
      "     --------------------------------------  10.6/10.6 MB 10.9 MB/s eta 0:00:01\n",
      "     --------------------------------------  10.6/10.6 MB 10.9 MB/s eta 0:00:01\n",
      "     ---------------------------------------- 10.6/10.6 MB 9.8 MB/s eta 0:00:00\n",
      "Collecting numpy>=1.16.5 (from yfinance)\n",
      "  Downloading numpy-1.25.2-cp311-cp311-win_amd64.whl (15.5 MB)\n",
      "                                              0.0/15.5 MB ? eta -:--:--\n",
      "                                              0.4/15.5 MB 10.9 MB/s eta 0:00:02\n",
      "     --                                       0.9/15.5 MB 11.7 MB/s eta 0:00:02\n",
      "     ---                                      1.5/15.5 MB 11.8 MB/s eta 0:00:02\n",
      "     -----                                    2.0/15.5 MB 11.8 MB/s eta 0:00:02\n",
      "     ------                                   2.5/15.5 MB 11.2 MB/s eta 0:00:02\n",
      "     -------                                  3.0/15.5 MB 11.4 MB/s eta 0:00:02\n",
      "     ---------                                3.6/15.5 MB 11.4 MB/s eta 0:00:02\n",
      "     ----------                               4.2/15.5 MB 11.6 MB/s eta 0:00:01\n",
      "     ------------                             4.7/15.5 MB 11.9 MB/s eta 0:00:01\n",
      "     -------------                            5.3/15.5 MB 11.6 MB/s eta 0:00:01\n",
      "     ---------------                          5.8/15.5 MB 11.7 MB/s eta 0:00:01\n",
      "     ----------------                         6.4/15.5 MB 11.7 MB/s eta 0:00:01\n",
      "     -----------------                        6.9/15.5 MB 11.7 MB/s eta 0:00:01\n",
      "     -------------------                      7.5/15.5 MB 11.7 MB/s eta 0:00:01\n",
      "     --------------------                     8.1/15.5 MB 11.7 MB/s eta 0:00:01\n",
      "     ----------------------                   8.6/15.5 MB 11.7 MB/s eta 0:00:01\n",
      "     -----------------------                  9.2/15.5 MB 11.7 MB/s eta 0:00:01\n",
      "     -------------------------                9.7/15.5 MB 11.7 MB/s eta 0:00:01\n",
      "     -------------------------               10.3/15.5 MB 11.7 MB/s eta 0:00:01\n",
      "     ---------------------------             10.8/15.5 MB 11.7 MB/s eta 0:00:01\n",
      "     ----------------------------            11.4/15.5 MB 11.7 MB/s eta 0:00:01\n",
      "     ------------------------------          12.0/15.5 MB 11.7 MB/s eta 0:00:01\n",
      "     -------------------------------         12.5/15.5 MB 11.9 MB/s eta 0:00:01\n",
      "     --------------------------------        13.1/15.5 MB 11.9 MB/s eta 0:00:01\n",
      "     ----------------------------------      13.6/15.5 MB 11.9 MB/s eta 0:00:01\n",
      "     -----------------------------------     14.2/15.5 MB 11.7 MB/s eta 0:00:01\n",
      "     ------------------------------------    14.7/15.5 MB 11.7 MB/s eta 0:00:01\n",
      "     --------------------------------------  15.3/15.5 MB 11.7 MB/s eta 0:00:01\n",
      "     --------------------------------------  15.5/15.5 MB 11.9 MB/s eta 0:00:01\n",
      "     --------------------------------------  15.5/15.5 MB 11.9 MB/s eta 0:00:01\n",
      "     --------------------------------------  15.5/15.5 MB 11.9 MB/s eta 0:00:01\n",
      "     --------------------------------------  15.5/15.5 MB 11.9 MB/s eta 0:00:01\n",
      "     ---------------------------------------- 15.5/15.5 MB 9.8 MB/s eta 0:00:00\n",
      "Collecting requests>=2.31 (from yfinance)\n",
      "  Downloading requests-2.31.0-py3-none-any.whl (62 kB)\n",
      "                                              0.0/62.6 kB ? eta -:--:--\n",
      "     ---------------------------------------- 62.6/62.6 kB 3.5 MB/s eta 0:00:00\n",
      "Collecting multitasking>=0.0.7 (from yfinance)\n",
      "  Downloading multitasking-0.0.11-py3-none-any.whl (8.5 kB)\n",
      "Collecting lxml>=4.9.1 (from yfinance)\n",
      "  Downloading lxml-4.9.3-cp311-cp311-win_amd64.whl (3.8 MB)\n",
      "                                              0.0/3.8 MB ? eta -:--:--\n",
      "     -----                                    0.5/3.8 MB 10.0 MB/s eta 0:00:01\n",
      "     -----------                              1.0/3.8 MB 11.0 MB/s eta 0:00:01\n",
      "     ----------------                         1.6/3.8 MB 11.2 MB/s eta 0:00:01\n",
      "     ----------------------                   2.2/3.8 MB 11.4 MB/s eta 0:00:01\n",
      "     ----------------------------             2.7/3.8 MB 11.5 MB/s eta 0:00:01\n",
      "     ----------------------------------       3.3/3.8 MB 11.5 MB/s eta 0:00:01\n",
      "     ---------------------------------------  3.8/3.8 MB 12.0 MB/s eta 0:00:01\n",
      "     ---------------------------------------  3.8/3.8 MB 12.0 MB/s eta 0:00:01\n",
      "     ---------------------------------------  3.8/3.8 MB 12.0 MB/s eta 0:00:01\n",
      "     ---------------------------------------  3.8/3.8 MB 12.0 MB/s eta 0:00:01\n",
      "     ---------------------------------------  3.8/3.8 MB 12.0 MB/s eta 0:00:01\n",
      "     ---------------------------------------- 3.8/3.8 MB 7.1 MB/s eta 0:00:00\n",
      "Collecting appdirs>=1.4.4 (from yfinance)\n",
      "  Downloading appdirs-1.4.4-py2.py3-none-any.whl (9.6 kB)\n",
      "Collecting pytz>=2022.5 (from yfinance)\n",
      "  Downloading pytz-2023.3-py2.py3-none-any.whl (502 kB)\n",
      "                                              0.0/502.3 kB ? eta -:--:--\n",
      "     ------------------------------------  501.8/502.3 kB 15.9 MB/s eta 0:00:01\n",
      "     -------------------------------------- 502.3/502.3 kB 7.9 MB/s eta 0:00:00\n",
      "Collecting frozendict>=2.3.4 (from yfinance)\n",
      "  Downloading frozendict-2.3.8-py311-none-any.whl (14 kB)\n",
      "Collecting beautifulsoup4>=4.11.1 (from yfinance)\n",
      "  Downloading beautifulsoup4-4.12.2-py3-none-any.whl (142 kB)\n",
      "                                              0.0/143.0 kB ? eta -:--:--\n",
      "     -------------------------------------- 143.0/143.0 kB 4.3 MB/s eta 0:00:00\n",
      "Collecting html5lib>=1.1 (from yfinance)\n",
      "  Downloading html5lib-1.1-py2.py3-none-any.whl (112 kB)\n",
      "                                              0.0/112.2 kB ? eta -:--:--\n",
      "     -------------------------------------- 112.2/112.2 kB 3.3 MB/s eta 0:00:00\n",
      "Collecting soupsieve>1.2 (from beautifulsoup4>=4.11.1->yfinance)\n",
      "  Downloading soupsieve-2.4.1-py3-none-any.whl (36 kB)\n",
      "Requirement already satisfied: six>=1.9 in c:\\users\\dell\\appdata\\roaming\\python\\python311\\site-packages (from html5lib>=1.1->yfinance) (1.16.0)\n",
      "Collecting webencodings (from html5lib>=1.1->yfinance)\n",
      "  Downloading webencodings-0.5.1-py2.py3-none-any.whl (11 kB)\n",
      "Requirement already satisfied: python-dateutil>=2.8.2 in c:\\users\\dell\\appdata\\roaming\\python\\python311\\site-packages (from pandas>=1.3.0->yfinance) (2.8.2)\n",
      "Collecting tzdata>=2022.1 (from pandas>=1.3.0->yfinance)\n",
      "  Downloading tzdata-2023.3-py2.py3-none-any.whl (341 kB)\n",
      "                                              0.0/341.8 kB ? eta -:--:--\n",
      "     ------------------------------------  337.9/341.8 kB 10.2 MB/s eta 0:00:01\n",
      "     -------------------------------------- 341.8/341.8 kB 7.1 MB/s eta 0:00:00\n",
      "Collecting charset-normalizer<4,>=2 (from requests>=2.31->yfinance)\n",
      "  Downloading charset_normalizer-3.2.0-cp311-cp311-win_amd64.whl (96 kB)\n",
      "                                              0.0/96.6 kB ? eta -:--:--\n",
      "     ---------------------------------------- 96.6/96.6 kB 2.8 MB/s eta 0:00:00\n",
      "Collecting idna<4,>=2.5 (from requests>=2.31->yfinance)\n",
      "  Downloading idna-3.4-py3-none-any.whl (61 kB)\n",
      "                                              0.0/61.5 kB ? eta -:--:--\n",
      "     --------------------------               41.0/61.5 kB ? eta -:--:--\n",
      "     --------------------------               41.0/61.5 kB ? eta -:--:--\n",
      "     --------------------------               41.0/61.5 kB ? eta -:--:--\n",
      "     --------------------------               41.0/61.5 kB ? eta -:--:--\n",
      "     -------------------------------------  61.4/61.5 kB 233.8 kB/s eta 0:00:01\n",
      "     -------------------------------------- 61.5/61.5 kB 219.2 kB/s eta 0:00:00\n",
      "Collecting urllib3<3,>=1.21.1 (from requests>=2.31->yfinance)\n",
      "  Downloading urllib3-2.0.4-py3-none-any.whl (123 kB)\n",
      "                                              0.0/123.9 kB ? eta -:--:--\n",
      "     -------------------------------------- 123.9/123.9 kB 3.7 MB/s eta 0:00:00\n",
      "Collecting certifi>=2017.4.17 (from requests>=2.31->yfinance)\n",
      "  Downloading certifi-2023.7.22-py3-none-any.whl (158 kB)\n",
      "                                              0.0/158.3 kB ? eta -:--:--\n",
      "     -------------------------------------- 158.3/158.3 kB 3.2 MB/s eta 0:00:00\n",
      "Installing collected packages: webencodings, pytz, multitasking, appdirs, urllib3, tzdata, soupsieve, numpy, lxml, idna, html5lib, frozendict, charset-normalizer, certifi, requests, pandas, beautifulsoup4, yfinance\n",
      "Successfully installed appdirs-1.4.4 beautifulsoup4-4.12.2 certifi-2023.7.22 charset-normalizer-3.2.0 frozendict-2.3.8 html5lib-1.1 idna-3.4 lxml-4.9.3 multitasking-0.0.11 numpy-1.25.2 pandas-2.0.3 pytz-2023.3 requests-2.31.0 soupsieve-2.4.1 tzdata-2023.3 urllib3-2.0.4 webencodings-0.5.1 yfinance-0.2.27\n",
      "Note: you may need to restart the kernel to use updated packages.\n"
     ]
    },
    {
     "name": "stderr",
     "output_type": "stream",
     "text": [
      "  WARNING: The script f2py.exe is installed in 'c:\\Users\\DELL\\AppData\\Local\\Programs\\Python\\Python311\\Scripts' which is not on PATH.\n",
      "  Consider adding this directory to PATH or, if you prefer to suppress this warning, use --no-warn-script-location.\n",
      "  WARNING: The script normalizer.exe is installed in 'c:\\Users\\DELL\\AppData\\Local\\Programs\\Python\\Python311\\Scripts' which is not on PATH.\n",
      "  Consider adding this directory to PATH or, if you prefer to suppress this warning, use --no-warn-script-location.\n",
      "  WARNING: The script sample.exe is installed in 'c:\\Users\\DELL\\AppData\\Local\\Programs\\Python\\Python311\\Scripts' which is not on PATH.\n",
      "  Consider adding this directory to PATH or, if you prefer to suppress this warning, use --no-warn-script-location.\n",
      "\n",
      "[notice] A new release of pip is available: 23.1.2 -> 23.2.1\n",
      "[notice] To update, run: python.exe -m pip install --upgrade pip\n"
     ]
    }
   ],
   "source": [
    "pip install yfinance"
   ]
  },
  {
   "cell_type": "code",
   "execution_count": 46,
   "metadata": {},
   "outputs": [],
   "source": [
    "import yfinance"
   ]
  },
  {
   "cell_type": "code",
   "execution_count": null,
   "metadata": {},
   "outputs": [],
   "source": [
    "yfinance.download('WALMEX.MX')"
   ]
  },
  {
   "cell_type": "markdown",
   "metadata": {},
   "source": []
  }
 ],
 "metadata": {
  "kernelspec": {
   "display_name": "Python 3",
   "language": "python",
   "name": "python3"
  },
  "language_info": {
   "codemirror_mode": {
    "name": "ipython",
    "version": 3
   },
   "file_extension": ".py",
   "mimetype": "text/x-python",
   "name": "python",
   "nbconvert_exporter": "python",
   "pygments_lexer": "ipython3",
   "version": "3.11.4"
  },
  "orig_nbformat": 4
 },
 "nbformat": 4,
 "nbformat_minor": 2
}
